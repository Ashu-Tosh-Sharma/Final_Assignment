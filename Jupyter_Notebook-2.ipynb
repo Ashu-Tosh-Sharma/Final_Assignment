{
  "metadata": {
    "kernelspec": {
      "display_name": "Python",
      "language": "python",
      "name": "conda-env-python-py"
    },
    "language_info": {
      "name": ""
    }
  },
  "nbformat_minor": 4,
  "nbformat": 4,
  "cells": [
    {
      "cell_type": "markdown",
      "source": "<center>\n    <img src=\"https://cf-courses-data.s3.us.cloud-object-storage.appdomain.cloud/IBMDeveloperSkillsNetwork-DS0105EN-SkillsNetwork/labs/Module2/images/SN_web_lightmode.png\" width=\"300\" alt=\"cognitiveclass.ai logo\">\n</center>\n",
      "metadata": {}
    },
    {
      "cell_type": "markdown",
      "source": "#### Add your code below following the instructions given in the course\n",
      "metadata": {}
    },
    {
      "cell_type": "markdown",
      "source": "<h1> Tools for Data Science Final Assignment </h1>",
      "metadata": {}
    },
    {
      "cell_type": "markdown",
      "source": "<i> This notebook covers the required exercises for final assignment </i>",
      "metadata": {}
    },
    {
      "cell_type": "markdown",
      "source": "Data Science Languages:\n<ul>\n    <li>Python</li>\n    <li>R</li>\n    <li>SQL</li>\n    <li>Scala</li>\n    <li>Julia</li>\n    <li>Javascript</li>\n</ul>",
      "metadata": {}
    },
    {
      "cell_type": "markdown",
      "source": "Data Science Libraries:\n<ol>\n    <li> Matplotlib </li>\n    <li> GGplot2 </li>\n    <li> PyTorch </li>\n    <li> TensorFlow </li>\n    <li> Keras </li>\n    <li> NumPy </li>\n    <li> SciPy </li>\n    <li> tidyr</li>\n</ol>",
      "metadata": {}
    },
    {
      "cell_type": "markdown",
      "source": "<table>\n    <tr>\n        <th>Data Science Tools</th>\n    </tr>\n    <tr>\n        <td>IBM Watson Studio</td>\n    </tr>\n    <tr>\n        <td>Python</td>\n    </tr>\n    <tr>\n        <td>R</td>\n    </tr>\n    <tr>\n        <td>Scala</td>\n    </tr>\n    <tr>\n        <td>TensorFlow</td>\n    </tr>\n    <tr>\n        <td>Apache Spark</td>\n    </tr>\n    <tr>\n        <td>Github</td>\n    </tr>\n    <tr>\n        <td>Jupyter Notebooks and Jupyter Labs</td>\n    </tr>\n    <tr>\n        <td>Microsoft PowerBI</td>\n    </tr>\n    <tr>\n        <td>Tableau</td>\n    </tr>\n</table>",
      "metadata": {}
    },
    {
      "cell_type": "markdown",
      "source": "This cell introduces arithmetic expression examples. Arithmetic expressions involve the use of mathematical operations such as addition, subtraction and multiplication. Some examples include:\n<ul>\n    <li> 1 + 1 = 2 </li>\n    <li> 3 x 4 = 12 </li>\n    <li> (1+8) x 2 = 16 </li>\n</ul>",
      "metadata": {}
    },
    {
      "cell_type": "code",
      "source": "print(2 + 8)\nprint(3 * 8)\nprint(4 + 3 * 11)",
      "metadata": {
        "trusted": true
      },
      "execution_count": 2,
      "outputs": [
        {
          "name": "stdout",
          "text": "10\n24\n37\n",
          "output_type": "stream"
        }
      ]
    },
    {
      "cell_type": "code",
      "source": "print(\"180 mins is equal to\", 180/60, \"hours\")",
      "metadata": {
        "trusted": true
      },
      "execution_count": 25,
      "outputs": [
        {
          "name": "stdout",
          "text": "180 mins is equal to 3.0 hours\n",
          "output_type": "stream"
        }
      ]
    },
    {
      "cell_type": "markdown",
      "source": "<h6>Objectives</h6>\n<ul>\n    <li> Complete Markdown Cell Exercises</li>\n    <li> Complete Code Cell Exercises</li>\n    <li> Save and share notebook through Github</li>\n</ul>",
      "metadata": {}
    },
    {
      "cell_type": "markdown",
      "source": "<b> Author:</b>\nAshutosh Sharma",
      "metadata": {}
    },
    {
      "cell_type": "code",
      "source": "",
      "metadata": {},
      "execution_count": null,
      "outputs": []
    }
  ]
}